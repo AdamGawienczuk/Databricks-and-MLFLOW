{
 "cells": [
  {
   "cell_type": "code",
   "execution_count": 3,
   "metadata": {},
   "outputs": [
    {
     "name": "stdout",
     "output_type": "stream",
     "text": [
      "pandas: 1.2.0\n",
      "matplotlib: 3.3.2\n",
      "seaborn: 0.11.1\n",
      "sklearn: 0.23.2\n"
     ]
    }
   ],
   "source": [
    "#Import bibliotek\n",
    "import pandas as pd\n",
    "import matplotlib #\n",
    "import matplotlib.pyplot as plt\n",
    "import seaborn as sns\n",
    "import sklearn #\n",
    "from sklearn.linear_model import LogisticRegression\n",
    "from sklearn.model_selection import train_test_split\n",
    "from sklearn.preprocessing import StandardScaler\n",
    "from sklearn.metrics import roc_auc_score, plot_roc_curve, confusion_matrix\n",
    "from sklearn.model_selection import KFold"
   ]
  },
  {
   "cell_type": "code",
   "execution_count": 36,
   "metadata": {},
   "outputs": [],
   "source": [
    "#Wczytanie pliku z danymi do analizy\n",
    "data_path = \"./creditcard.csv\"\n",
    "\n",
    "df = pd.read_csv(data_path)\n",
    "df = df.drop(\"Time\", axis=1)"
   ]
  },
  {
   "cell_type": "code",
   "execution_count": 37,
   "metadata": {},
   "outputs": [
    {
     "data": {
      "text/html": [
       "<div>\n",
       "<style scoped>\n",
       "    .dataframe tbody tr th:only-of-type {\n",
       "        vertical-align: middle;\n",
       "    }\n",
       "\n",
       "    .dataframe tbody tr th {\n",
       "        vertical-align: top;\n",
       "    }\n",
       "\n",
       "    .dataframe thead th {\n",
       "        text-align: right;\n",
       "    }\n",
       "</style>\n",
       "<table border=\"1\" class=\"dataframe\">\n",
       "  <thead>\n",
       "    <tr style=\"text-align: right;\">\n",
       "      <th></th>\n",
       "      <th>V1</th>\n",
       "      <th>V2</th>\n",
       "      <th>V3</th>\n",
       "      <th>V4</th>\n",
       "      <th>V5</th>\n",
       "      <th>V6</th>\n",
       "      <th>V7</th>\n",
       "      <th>V8</th>\n",
       "      <th>V9</th>\n",
       "      <th>V10</th>\n",
       "      <th>...</th>\n",
       "      <th>V21</th>\n",
       "      <th>V22</th>\n",
       "      <th>V23</th>\n",
       "      <th>V24</th>\n",
       "      <th>V25</th>\n",
       "      <th>V26</th>\n",
       "      <th>V27</th>\n",
       "      <th>V28</th>\n",
       "      <th>Amount</th>\n",
       "      <th>Class</th>\n",
       "    </tr>\n",
       "  </thead>\n",
       "  <tbody>\n",
       "    <tr>\n",
       "      <th>0</th>\n",
       "      <td>-1.359807</td>\n",
       "      <td>-0.072781</td>\n",
       "      <td>2.536347</td>\n",
       "      <td>1.378155</td>\n",
       "      <td>-0.338321</td>\n",
       "      <td>0.462388</td>\n",
       "      <td>0.239599</td>\n",
       "      <td>0.098698</td>\n",
       "      <td>0.363787</td>\n",
       "      <td>0.090794</td>\n",
       "      <td>...</td>\n",
       "      <td>-0.018307</td>\n",
       "      <td>0.277838</td>\n",
       "      <td>-0.110474</td>\n",
       "      <td>0.066928</td>\n",
       "      <td>0.128539</td>\n",
       "      <td>-0.189115</td>\n",
       "      <td>0.133558</td>\n",
       "      <td>-0.021053</td>\n",
       "      <td>149.62</td>\n",
       "      <td>0</td>\n",
       "    </tr>\n",
       "    <tr>\n",
       "      <th>1</th>\n",
       "      <td>1.191857</td>\n",
       "      <td>0.266151</td>\n",
       "      <td>0.166480</td>\n",
       "      <td>0.448154</td>\n",
       "      <td>0.060018</td>\n",
       "      <td>-0.082361</td>\n",
       "      <td>-0.078803</td>\n",
       "      <td>0.085102</td>\n",
       "      <td>-0.255425</td>\n",
       "      <td>-0.166974</td>\n",
       "      <td>...</td>\n",
       "      <td>-0.225775</td>\n",
       "      <td>-0.638672</td>\n",
       "      <td>0.101288</td>\n",
       "      <td>-0.339846</td>\n",
       "      <td>0.167170</td>\n",
       "      <td>0.125895</td>\n",
       "      <td>-0.008983</td>\n",
       "      <td>0.014724</td>\n",
       "      <td>2.69</td>\n",
       "      <td>0</td>\n",
       "    </tr>\n",
       "    <tr>\n",
       "      <th>2</th>\n",
       "      <td>-1.358354</td>\n",
       "      <td>-1.340163</td>\n",
       "      <td>1.773209</td>\n",
       "      <td>0.379780</td>\n",
       "      <td>-0.503198</td>\n",
       "      <td>1.800499</td>\n",
       "      <td>0.791461</td>\n",
       "      <td>0.247676</td>\n",
       "      <td>-1.514654</td>\n",
       "      <td>0.207643</td>\n",
       "      <td>...</td>\n",
       "      <td>0.247998</td>\n",
       "      <td>0.771679</td>\n",
       "      <td>0.909412</td>\n",
       "      <td>-0.689281</td>\n",
       "      <td>-0.327642</td>\n",
       "      <td>-0.139097</td>\n",
       "      <td>-0.055353</td>\n",
       "      <td>-0.059752</td>\n",
       "      <td>378.66</td>\n",
       "      <td>0</td>\n",
       "    </tr>\n",
       "    <tr>\n",
       "      <th>3</th>\n",
       "      <td>-0.966272</td>\n",
       "      <td>-0.185226</td>\n",
       "      <td>1.792993</td>\n",
       "      <td>-0.863291</td>\n",
       "      <td>-0.010309</td>\n",
       "      <td>1.247203</td>\n",
       "      <td>0.237609</td>\n",
       "      <td>0.377436</td>\n",
       "      <td>-1.387024</td>\n",
       "      <td>-0.054952</td>\n",
       "      <td>...</td>\n",
       "      <td>-0.108300</td>\n",
       "      <td>0.005274</td>\n",
       "      <td>-0.190321</td>\n",
       "      <td>-1.175575</td>\n",
       "      <td>0.647376</td>\n",
       "      <td>-0.221929</td>\n",
       "      <td>0.062723</td>\n",
       "      <td>0.061458</td>\n",
       "      <td>123.50</td>\n",
       "      <td>0</td>\n",
       "    </tr>\n",
       "    <tr>\n",
       "      <th>4</th>\n",
       "      <td>-1.158233</td>\n",
       "      <td>0.877737</td>\n",
       "      <td>1.548718</td>\n",
       "      <td>0.403034</td>\n",
       "      <td>-0.407193</td>\n",
       "      <td>0.095921</td>\n",
       "      <td>0.592941</td>\n",
       "      <td>-0.270533</td>\n",
       "      <td>0.817739</td>\n",
       "      <td>0.753074</td>\n",
       "      <td>...</td>\n",
       "      <td>-0.009431</td>\n",
       "      <td>0.798278</td>\n",
       "      <td>-0.137458</td>\n",
       "      <td>0.141267</td>\n",
       "      <td>-0.206010</td>\n",
       "      <td>0.502292</td>\n",
       "      <td>0.219422</td>\n",
       "      <td>0.215153</td>\n",
       "      <td>69.99</td>\n",
       "      <td>0</td>\n",
       "    </tr>\n",
       "  </tbody>\n",
       "</table>\n",
       "<p>5 rows × 30 columns</p>\n",
       "</div>"
      ],
      "text/plain": [
       "         V1        V2        V3        V4        V5        V6        V7  \\\n",
       "0 -1.359807 -0.072781  2.536347  1.378155 -0.338321  0.462388  0.239599   \n",
       "1  1.191857  0.266151  0.166480  0.448154  0.060018 -0.082361 -0.078803   \n",
       "2 -1.358354 -1.340163  1.773209  0.379780 -0.503198  1.800499  0.791461   \n",
       "3 -0.966272 -0.185226  1.792993 -0.863291 -0.010309  1.247203  0.237609   \n",
       "4 -1.158233  0.877737  1.548718  0.403034 -0.407193  0.095921  0.592941   \n",
       "\n",
       "         V8        V9       V10  ...       V21       V22       V23       V24  \\\n",
       "0  0.098698  0.363787  0.090794  ... -0.018307  0.277838 -0.110474  0.066928   \n",
       "1  0.085102 -0.255425 -0.166974  ... -0.225775 -0.638672  0.101288 -0.339846   \n",
       "2  0.247676 -1.514654  0.207643  ...  0.247998  0.771679  0.909412 -0.689281   \n",
       "3  0.377436 -1.387024 -0.054952  ... -0.108300  0.005274 -0.190321 -1.175575   \n",
       "4 -0.270533  0.817739  0.753074  ... -0.009431  0.798278 -0.137458  0.141267   \n",
       "\n",
       "        V25       V26       V27       V28  Amount  Class  \n",
       "0  0.128539 -0.189115  0.133558 -0.021053  149.62      0  \n",
       "1  0.167170  0.125895 -0.008983  0.014724    2.69      0  \n",
       "2 -0.327642 -0.139097 -0.055353 -0.059752  378.66      0  \n",
       "3  0.647376 -0.221929  0.062723  0.061458  123.50      0  \n",
       "4 -0.206010  0.502292  0.219422  0.215153   69.99      0  \n",
       "\n",
       "[5 rows x 30 columns]"
      ]
     },
     "execution_count": 37,
     "metadata": {},
     "output_type": "execute_result"
    }
   ],
   "source": [
    "df.head()"
   ]
  },
  {
   "cell_type": "code",
   "execution_count": 38,
   "metadata": {},
   "outputs": [],
   "source": [
    "normal = df[df.Class == 0].sample(frac=0.5, random_state=2020).reset_index(drop=True)\n",
    "anomaly = df[df.Class == 1]"
   ]
  },
  {
   "cell_type": "code",
   "execution_count": 7,
   "metadata": {},
   "outputs": [
    {
     "ename": "NameError",
     "evalue": "name 'x' is not defined",
     "output_type": "error",
     "traceback": [
      "\u001b[1;31m---------------------------------------------------------------------------\u001b[0m",
      "\u001b[1;31mNameError\u001b[0m                                 Traceback (most recent call last)",
      "\u001b[1;32m<ipython-input-7-5d5386d7d5dc>\u001b[0m in \u001b[0;36m<module>\u001b[1;34m\u001b[0m\n\u001b[1;32m----> 1\u001b[1;33m \u001b[0mx_train\u001b[0m\u001b[1;33m,\u001b[0m \u001b[0mx_test\u001b[0m\u001b[1;33m,\u001b[0m \u001b[0my_train\u001b[0m\u001b[1;33m,\u001b[0m \u001b[0my_test\u001b[0m \u001b[1;33m=\u001b[0m \u001b[0mtrain_test_split\u001b[0m\u001b[1;33m(\u001b[0m\u001b[0mx\u001b[0m\u001b[1;33m,\u001b[0m \u001b[0my\u001b[0m\u001b[1;33m,\u001b[0m \u001b[0mtest_size\u001b[0m\u001b[1;33m=\u001b[0m\u001b[1;36m0.2\u001b[0m\u001b[1;33m,\u001b[0m \u001b[0mrandom_state\u001b[0m \u001b[1;33m=\u001b[0m \u001b[1;36m2020\u001b[0m\u001b[1;33m)\u001b[0m\u001b[1;33m\u001b[0m\u001b[1;33m\u001b[0m\u001b[0m\n\u001b[0m",
      "\u001b[1;31mNameError\u001b[0m: name 'x' is not defined"
     ]
    }
   ],
   "source": [
    "x_train, x_test, y_train, y_test = train_test_split(x, y, test_size=0.2, random_state = 2020)"
   ]
  },
  {
   "cell_type": "code",
   "execution_count": 39,
   "metadata": {},
   "outputs": [],
   "source": [
    "normal_train, normal_test = train_test_split(normal, test_size = 0.2, random_state = 2020)\n",
    "anomaly_train, anomaly_test = train_test_split(anomaly, test_size = 0.2, random_state = 2020)"
   ]
  },
  {
   "cell_type": "code",
   "execution_count": 40,
   "metadata": {},
   "outputs": [],
   "source": [
    "normal_train, normal_validate = train_test_split(normal_train, test_size = 0.25, random_state = 2020)\n",
    "anomaly_train, anomaly_validate = train_test_split(anomaly_train, test_size = 0.25, random_state = 2020)"
   ]
  },
  {
   "cell_type": "code",
   "execution_count": 41,
   "metadata": {},
   "outputs": [],
   "source": [
    "x_train = pd.concat((normal_train, anomaly_train))\n",
    "x_test = pd.concat((normal_test, anomaly_test))\n",
    "x_validate = pd.concat((normal_validate, anomaly_validate))"
   ]
  },
  {
   "cell_type": "code",
   "execution_count": 42,
   "metadata": {},
   "outputs": [],
   "source": [
    "y_train = np.array(x_train[\"Class\"])\n",
    "y_test = np.array(x_test[\"Class\"])\n",
    "y_validate = np.array(x_validate[\"Class\"])"
   ]
  },
  {
   "cell_type": "code",
   "execution_count": 15,
   "metadata": {},
   "outputs": [],
   "source": [
    "import numpy as np"
   ]
  },
  {
   "cell_type": "code",
   "execution_count": 43,
   "metadata": {},
   "outputs": [],
   "source": [
    "x_train = x_train.drop(\"Class\", axis=1)\n",
    "x_test = x_test.drop(\"Class\", axis=1)\n",
    "x_validate = x_validate.drop(\"Class\", axis=1)"
   ]
  },
  {
   "cell_type": "code",
   "execution_count": 44,
   "metadata": {},
   "outputs": [
    {
     "name": "stdout",
     "output_type": "stream",
     "text": [
      "Training sets:\n",
      "x_train: (85588, 29) \n",
      "y_train: (85588,)\n",
      "\n",
      "Testing sets:\n",
      "x_test: (28531, 29) \n",
      "y_test: (28531,)\n",
      "\n",
      "Validation sets:\n",
      "x_validate: (28531, 29) \n",
      "y_validate: (28531,)\n"
     ]
    }
   ],
   "source": [
    "print(\"Training sets:\\nx_train: {} \\ny_train: {}\".format(x_train.shape, y_train.shape))\n",
    "print(\"\\nTesting sets:\\nx_test: {} \\ny_test: {}\".format(x_test.shape, y_test.shape))\n",
    "print(\"\\nValidation sets:\\nx_validate: {} \\ny_validate: {}\".format(x_validate.shape, y_validate.shape))"
   ]
  },
  {
   "cell_type": "code",
   "execution_count": 45,
   "metadata": {},
   "outputs": [],
   "source": [
    "scaler = StandardScaler()\n",
    "scaler.fit(pd.concat((normal, anomaly)).drop(\"Class\", axis=1))\n",
    "\n",
    "x_train = scaler.transform(x_train)\n",
    "x_test = scaler.transform(x_test)\n",
    "x_validate = scaler.transform(x_validate)"
   ]
  },
  {
   "cell_type": "code",
   "execution_count": 46,
   "metadata": {},
   "outputs": [],
   "source": [
    "def train(sk_model, x_train, y_train):    \n",
    "    sk_model = sk_model.fit(x_train, y_train)    \n",
    "    train_acc = sk_model.score(x_train, y_train)    \n",
    "    mlflow.log_metric(\"train_acc\", train_acc)    \n",
    "    print(f\"Train Accuracy: {train_acc:.3%}\")"
   ]
  },
  {
   "cell_type": "code",
   "execution_count": 47,
   "metadata": {},
   "outputs": [],
   "source": [
    "def evaluate(sk_model, x_test, y_test):\n",
    "    \n",
    "    eval_acc = sk_model.score(x_test, y_test)  \n",
    "    \n",
    "    preds = sk_model.predict(x_test)    \n",
    "    auc_score = roc_auc_score(y_test, preds)\n",
    "    \n",
    "    mlflow.log_metric(\"eval_acc\", eval_acc)    \n",
    "    mlflow.log_metric(\"auc_score\", auc_score) \n",
    "    \n",
    "    print(f\"Auc Score: {auc_score:.3%}\")    \n",
    "    print(f\"Eval Accuracy: {eval_acc:.3%}\")  \n",
    "    \n",
    "    roc_plot = plot_roc_curve(sk_model, x_test, y_test, name='Scikit-learn ROC Curve')\n",
    "    plt.savefig(\"sklearn_roc_plot.png\")\n",
    "    plt.show()\n",
    "    plt.clf()\n",
    "\n",
    "    conf_matrix = confusion_matrix(y_test, preds)\n",
    "    ax = sns.heatmap(conf_matrix, annot=True,fmt='g')\n",
    "    ax.invert_xaxis()\n",
    "    ax.invert_yaxis()\n",
    "    plt.ylabel('Actual')\n",
    "    plt.xlabel('Predicted')\n",
    "    plt.title(\"Confusion Matrix\")\n",
    "    plt.savefig(\"sklearn_conf_matrix.png\")\n",
    "\n",
    "\n",
    "    mlflow.log_artifact(\"sklearn_roc_plot.png\")\n",
    "    mlflow.log_artifact(\"sklearn_conf_matrix.png\")"
   ]
  },
  {
   "cell_type": "code",
   "execution_count": 53,
   "metadata": {},
   "outputs": [
    {
     "name": "stdout",
     "output_type": "stream",
     "text": [
      "Train Accuracy: 99.893%\n",
      "Auc Score: 85.341%\n",
      "Eval Accuracy: 99.874%\n"
     ]
    },
    {
     "data": {
      "image/png": "[encoded data removed]",
      "text/plain": [
       "<Figure size 432x288 with 1 Axes>"
      ]
     },
     "metadata": {
      "needs_background": "light"
     },
     "output_type": "display_data"
    },
    {
     "name": "stdout",
     "output_type": "stream",
     "text": [
      "Model run:  e755068e2a5d46bdbba187ce408998d7\n"
     ]
    },
    {
     "data": {
      "image/png": "[encoded data removed]",
      "text/plain": [
       "<Figure size 432x288 with 2 Axes>"
      ]
     },
     "metadata": {
      "needs_background": "light"
     },
     "output_type": "display_data"
    }
   ],
   "source": [
    "sk_model = LogisticRegression(random_state=None, max_iter=400, solver='newton-cg')\n",
    "\n",
    "mlflow.set_experiment(\"scikit_learn_experiment\")\n",
    "with mlflow.start_run():\n",
    "    train(sk_model, x_train, y_train)\n",
    "    evaluate(sk_model, x_test, y_test)\n",
    "    mlflow.sklearn.log_model(sk_model, \"log_reg_model\")\n",
    "    print(\"Model run: \", mlflow.active_run().info.run_uuid)\n",
    "mlflow.end_run()"
   ]
  },
  {
   "cell_type": "code",
   "execution_count": 54,
   "metadata": {},
   "outputs": [],
   "source": [
    "anomaly_weights = [1, 5, 10, 15]\n",
    "num_folds = 5\n",
    "kfold = KFold(n_splits=num_folds, shuffle=True, random_state=2020)"
   ]
  },
  {
   "cell_type": "code",
   "execution_count": 55,
   "metadata": {},
   "outputs": [
    {
     "name": "stdout",
     "output_type": "stream",
     "text": [
      "INFO: 'sklearn_creditcard_broad_search' does not exist. Creating a new experiment\n",
      "----------------------------------------\n",
      "fold 1\n",
      "Anomaly Weight: 1\n",
      "AUC: 0.8\n",
      "eval_acc: 0.9985982127212195\n",
      "----------------------------------------\n",
      "fold 2\n",
      "Anomaly Weight: 1\n",
      "AUC: 0.8568790049001132\n",
      "eval_acc: 0.998422712933754\n",
      "----------------------------------------\n",
      "fold 3\n",
      "Anomaly Weight: 1\n",
      "AUC: 0.8406451922461774\n",
      "eval_acc: 0.9982474588152822\n",
      "----------------------------------------\n",
      "fold 4\n",
      "Anomaly Weight: 1\n",
      "AUC: 0.8682452129973255\n",
      "eval_acc: 0.9987732211706976\n",
      "----------------------------------------\n",
      "fold 5\n",
      "Anomaly Weight: 1\n",
      "AUC: 0.8528532875621686\n",
      "eval_acc: 0.9989484752891693\n",
      "\n",
      "Averages: \n",
      "Accuracy:  0.9985980161860246\n",
      "AUC:  0.8437245395411569\n",
      "Best: \n",
      "Accuracy:  0.9989484752891693\n",
      "AUC:  0.8682452129973255\n",
      "----------------------------------------\n",
      "fold 1\n",
      "Anomaly Weight: 5\n",
      "AUC: 0.8748241603657465\n",
      "eval_acc: 0.9987734361310671\n",
      "----------------------------------------\n",
      "fold 2\n",
      "Anomaly Weight: 5\n",
      "AUC: 0.975398919462244\n",
      "eval_acc: 0.9982474588152822\n",
      "----------------------------------------\n",
      "fold 3\n",
      "Anomaly Weight: 5\n",
      "AUC: 0.9314663169342972\n",
      "eval_acc: 0.9987732211706976\n",
      "----------------------------------------\n",
      "fold 4\n",
      "Anomaly Weight: 5\n",
      "AUC: 0.8943851628367561\n",
      "eval_acc: 0.9985979670522257\n",
      "----------------------------------------\n",
      "fold 5\n",
      "Anomaly Weight: 5\n",
      "AUC: 0.8820013855427915\n",
      "eval_acc: 0.9985979670522257\n",
      "\n",
      "Averages: \n",
      "Accuracy:  0.9985980100442996\n",
      "AUC:  0.9116151890283671\n",
      "Best: \n",
      "Accuracy:  0.9987734361310671\n",
      "AUC:  0.975398919462244\n",
      "----------------------------------------\n",
      "fold 1\n",
      "Anomaly Weight: 10\n",
      "AUC: 0.9243845612801126\n",
      "eval_acc: 0.9982477659015244\n",
      "----------------------------------------\n",
      "fold 2\n",
      "Anomaly Weight: 10\n",
      "AUC: 0.9753109687146626\n",
      "eval_acc: 0.9980722046968104\n",
      "----------------------------------------\n",
      "fold 3\n",
      "Anomaly Weight: 10\n",
      "AUC: 0.9313783507133262\n",
      "eval_acc: 0.9985979670522257\n",
      "----------------------------------------\n",
      "fold 4\n",
      "Anomaly Weight: 10\n",
      "AUC: 0.8943851628367561\n",
      "eval_acc: 0.9985979670522257\n",
      "----------------------------------------\n",
      "fold 5\n",
      "Anomaly Weight: 10\n",
      "AUC: 0.8820013855427915\n",
      "eval_acc: 0.9985979670522257\n",
      "\n",
      "Averages: \n",
      "Accuracy:  0.9984227743510024\n",
      "AUC:  0.9214920858175297\n",
      "Best: \n",
      "Accuracy:  0.9985979670522257\n",
      "AUC:  0.9753109687146626\n",
      "----------------------------------------\n",
      "fold 1\n",
      "Anomaly Weight: 15\n",
      "AUC: 0.9242966414629858\n",
      "eval_acc: 0.9980725424916769\n",
      "----------------------------------------\n",
      "fold 2\n",
      "Anomaly Weight: 15\n",
      "AUC: 0.9751350672194998\n",
      "eval_acc: 0.9977216964598669\n",
      "----------------------------------------\n",
      "fold 3\n",
      "Anomaly Weight: 15\n",
      "AUC: 0.9312903844923551\n",
      "eval_acc: 0.998422712933754\n",
      "----------------------------------------\n",
      "fold 4\n",
      "Anomaly Weight: 15\n",
      "AUC: 0.8940334835682489\n",
      "eval_acc: 0.9978969505783386\n",
      "----------------------------------------\n",
      "fold 5\n",
      "Anomaly Weight: 15\n",
      "AUC: 0.8813861631838532\n",
      "eval_acc: 0.9973711882229233\n",
      "\n",
      "Averages: \n",
      "Accuracy:  0.9978970181373118\n",
      "AUC:  0.9212283479853886\n",
      "Best: \n",
      "Accuracy:  0.998422712933754\n",
      "AUC:  0.9751350672194998\n"
     ]
    }
   ],
   "source": [
    "mlflow.set_experiment(\"sklearn_creditcard_broad_search\")\n",
    "logs = []\n",
    "\n",
    "for f in range(len(anomaly_weights)):    \n",
    "    fold = 1    \n",
    "    accuracies = []    \n",
    "    auc_scores= []    \n",
    "    for train, test in kfold.split(x_validate, y_validate): \n",
    "        with mlflow.start_run():\n",
    "            weight = anomaly_weights[f]\n",
    "            mlflow.log_param(\"anomaly_weight\", weight)\n",
    "            class_weights= {\n",
    "                     0:1,\n",
    "                1: weight\n",
    "            }\n",
    "            sk_model = LogisticRegression(random_state=None,\n",
    "                                          max_iter=400,                                      \n",
    "                                          solver='newton-cg',                                      \n",
    "                                          class_weight=class_weights).fit(x_validate[train], y_validate[train])        \n",
    "            for h in range(40): print('-', end=\"\")        \n",
    "            print(f\"\\nfold {fold}\\nAnomaly Weight: {weight}\") \n",
    "\n",
    "            train_acc = sk_model.score(x_validate[train], y_validate[train])            \n",
    "            mlflow.log_metric(\"train_acc\", train_acc)\n",
    "\n",
    "            eval_acc = sk_model.score(x_validate[test], y_validate[test])        \n",
    "            preds = sk_model.predict(x_validate[test])  \n",
    "\n",
    "            mlflow.log_metric(\"eval_acc\", eval_acc)\n",
    "            try:            \n",
    "                auc_score = roc_auc_score(y_validate[test], preds)        \n",
    "            except:            \n",
    "                auc_score = -1     \n",
    "\n",
    "            mlflow.log_metric(\"auc_score\", auc_score)\n",
    "\n",
    "            print(\"AUC: {}\\neval_acc: {}\".format(auc_score, eval_acc)) \n",
    "\n",
    "            accuracies.append(eval_acc)        \n",
    "            auc_scores.append(auc_score)  \n",
    "\n",
    "            log = [sk_model, x_validate[test], y_validate[test], preds]        \n",
    "            logs.append(log)  \n",
    "            mlflow.sklearn.log_model(sk_model, f\"anom_weight_{weight}_fold_{fold}\")\n",
    "\n",
    "            fold = fold + 1\n",
    "            mlflow.end_run()\n",
    "            \n",
    "    print(\"\\nAverages: \")    \n",
    "    print(\"Accuracy: \", np.mean(accuracies))    \n",
    "    print(\"AUC: \", np.mean(auc_scores))    \n",
    "    print(\"Best: \")    \n",
    "    print(\"Accuracy: \", np.max(accuracies))    \n",
    "    print(\"AUC: \", np.max(auc_scores))"
   ]
  },
  {
   "cell_type": "code",
   "execution_count": 31,
   "metadata": {},
   "outputs": [],
   "source": [
    "sk_model, x_val, y_val, preds = logs[11]"
   ]
  },
  {
   "cell_type": "code",
   "execution_count": 32,
   "metadata": {},
   "outputs": [
    {
     "data": {
      "image/png": "[encoded data removed]",
      "text/plain": [
       "<Figure size 432x288 with 1 Axes>"
      ]
     },
     "metadata": {
      "needs_background": "light"
     },
     "output_type": "display_data"
    }
   ],
   "source": [
    "roc_plot = plot_roc_curve(sk_model, x_val, y_val, name='Scikit-learn ROC Curve')"
   ]
  },
  {
   "cell_type": "code",
   "execution_count": 33,
   "metadata": {},
   "outputs": [
    {
     "data": {
      "text/plain": [
       "Text(0.5, 15.0, 'Predicted')"
      ]
     },
     "execution_count": 33,
     "metadata": {},
     "output_type": "execute_result"
    },
    {
     "data": {
      "image/png": "[encoded data removed]",
      "text/plain": [
       "<Figure size 432x288 with 2 Axes>"
      ]
     },
     "metadata": {
      "needs_background": "light"
     },
     "output_type": "display_data"
    }
   ],
   "source": [
    "conf_matrix = confusion_matrix(y_val, preds)\n",
    "ax = sns.heatmap(conf_matrix, annot=True,fmt='g')\n",
    "ax.invert_xaxis()\n",
    "ax.invert_yaxis()\n",
    "plt.ylabel('Actual')\n",
    "plt.xlabel('Predicted')"
   ]
  },
  {
   "cell_type": "code",
   "execution_count": 34,
   "metadata": {},
   "outputs": [],
   "source": [
    "import mlflow\n",
    "import mlflow.sklearn"
   ]
  },
  {
   "cell_type": "code",
   "execution_count": 35,
   "metadata": {},
   "outputs": [
    {
     "name": "stdout",
     "output_type": "stream",
     "text": [
      "MLFlow: 1.13.1\n"
     ]
    }
   ],
   "source": [
    "print(\"MLFlow: {}\".format(mlflow.__version__))"
   ]
  },
  {
   "cell_type": "code",
   "execution_count": null,
   "metadata": {},
   "outputs": [],
   "source": []
  }
 ],
 "metadata": {
  "kernelspec": {
   "display_name": "Python MLflow",
   "language": "python",
   "name": "mlflow"
  },
  "language_info": {
   "codemirror_mode": {
    "name": "ipython",
    "version": 3
   },
   "file_extension": ".py",
   "mimetype": "text/x-python",
   "name": "python",
   "nbconvert_exporter": "python",
   "pygments_lexer": "ipython3",
   "version": "3.8.5"
  }
 },
 "nbformat": 4,
 "nbformat_minor": 4
}
